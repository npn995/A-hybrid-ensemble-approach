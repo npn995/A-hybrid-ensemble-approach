{
 "cells": [
  {
   "cell_type": "code",
   "execution_count": 1,
   "id": "7e22df61",
   "metadata": {},
   "outputs": [],
   "source": [
    "import pandas as pd \n",
    "import numpy as np\n",
    "from sklearn.metrics import *\n",
    "import sklearn.metrics as metrics\n",
    "from sklearn.model_selection import train_test_split\n",
    "from imblearn.over_sampling import SMOTE,ADASYN\n",
    "import pickle\n",
    "from sklearn.preprocessing import StandardScaler\n",
    "from sklearn.metrics import confusion_matrix , classification_report\n",
    "from sklearn.ensemble import VotingClassifier\n",
    "import lightgbm as lgb\n",
    "import xgboost as xgb\n",
    "from xgboost import XGBClassifier\n",
    "import matplotlib.pyplot as plt\n",
    "from collections import Counter\n",
    "import seaborn as sns\n",
    "from catboost import CatBoostClassifier\n",
    "from sklearn.svm import SVC, LinearSVC\n",
    "from sklearn.tree import DecisionTreeClassifier\n",
    "from sklearn.naive_bayes import BernoulliNB\n",
    "from sklearn.neighbors import KNeighborsClassifier\n",
    "from sklearn.linear_model import LogisticRegression\n",
    "from sklearn.discriminant_analysis import LinearDiscriminantAnalysis\n",
    "from sklearn.discriminant_analysis import QuadraticDiscriminantAnalysis\n",
    "from sklearn.ensemble import RandomForestClassifier\n",
    "from sklearn.ensemble import GradientBoostingClassifier\n",
    "from mlxtend.classifier import EnsembleVoteClassifier\n",
    "%matplotlib inline\n",
    "import tensorflow as tf\n",
    "from tensorflow_addons import losses\n",
    "from tensorflow import keras\n",
    "from sklearn.model_selection import RandomizedSearchCV\n",
    "from sklearn.model_selection import GridSearchCV\n",
    "from sklearn.model_selection import cross_val_score\n",
    "import warnings\n",
    "from sklearn.metrics import matthews_corrcoef\n",
    "from sklearn.metrics import mean_squared_error\n",
    "from sklearn.metrics import roc_auc_score\n",
    "from sklearn.metrics import cohen_kappa_score\n",
    "from sklearn.feature_selection import RFECV\n",
    "warnings.simplefilter('ignore')\n"
   ]
  },
  {
   "cell_type": "code",
   "execution_count": 2,
   "id": "4b94041f",
   "metadata": {},
   "outputs": [],
   "source": [
    "missing_values = ['?', '--', ' ', 'NA', 'N/A', '-']\n",
    "df = pd.read_csv('C:\\\\Users\\\\nafiu\\\\OneDrive\\\\Desktop\\\\Article on Sub-saharan\\\\Data\\\\lt.csv', na_values = missing_values)\n"
   ]
  },
  {
   "cell_type": "code",
   "execution_count": 3,
   "id": "6f5c9022",
   "metadata": {},
   "outputs": [
    {
     "data": {
      "text/html": [
       "<div>\n",
       "<style scoped>\n",
       "    .dataframe tbody tr th:only-of-type {\n",
       "        vertical-align: middle;\n",
       "    }\n",
       "\n",
       "    .dataframe tbody tr th {\n",
       "        vertical-align: top;\n",
       "    }\n",
       "\n",
       "    .dataframe thead th {\n",
       "        text-align: right;\n",
       "    }\n",
       "</style>\n",
       "<table border=\"1\" class=\"dataframe\">\n",
       "  <thead>\n",
       "    <tr style=\"text-align: right;\">\n",
       "      <th></th>\n",
       "      <th>Mother's Age</th>\n",
       "      <th>Residence</th>\n",
       "      <th>Education level</th>\n",
       "      <th>Wealth Index</th>\n",
       "      <th>Breastfeed</th>\n",
       "      <th>Anemia Level</th>\n",
       "      <th>Husband's education level</th>\n",
       "      <th>Working status</th>\n",
       "      <th>Birth order</th>\n",
       "      <th>Sex of child</th>\n",
       "      <th>...</th>\n",
       "      <th>Diarrhea</th>\n",
       "      <th>Fever</th>\n",
       "      <th>Vitamin A</th>\n",
       "      <th>Child's Age</th>\n",
       "      <th>Child's Anemia</th>\n",
       "      <th>SODW</th>\n",
       "      <th>TOTF</th>\n",
       "      <th>Media exposure</th>\n",
       "      <th>Mother BMI</th>\n",
       "      <th>Combined</th>\n",
       "    </tr>\n",
       "  </thead>\n",
       "  <tbody>\n",
       "    <tr>\n",
       "      <th>0</th>\n",
       "      <td>4</td>\n",
       "      <td>2</td>\n",
       "      <td>0</td>\n",
       "      <td>3</td>\n",
       "      <td>1</td>\n",
       "      <td>1</td>\n",
       "      <td>0</td>\n",
       "      <td>1</td>\n",
       "      <td>4</td>\n",
       "      <td>2</td>\n",
       "      <td>...</td>\n",
       "      <td>0</td>\n",
       "      <td>0</td>\n",
       "      <td>1</td>\n",
       "      <td>1</td>\n",
       "      <td>1</td>\n",
       "      <td>0</td>\n",
       "      <td>0</td>\n",
       "      <td>0</td>\n",
       "      <td>1</td>\n",
       "      <td>0</td>\n",
       "    </tr>\n",
       "    <tr>\n",
       "      <th>1</th>\n",
       "      <td>4</td>\n",
       "      <td>2</td>\n",
       "      <td>0</td>\n",
       "      <td>3</td>\n",
       "      <td>1</td>\n",
       "      <td>1</td>\n",
       "      <td>0</td>\n",
       "      <td>1</td>\n",
       "      <td>4</td>\n",
       "      <td>2</td>\n",
       "      <td>...</td>\n",
       "      <td>0</td>\n",
       "      <td>0</td>\n",
       "      <td>1</td>\n",
       "      <td>3</td>\n",
       "      <td>1</td>\n",
       "      <td>0</td>\n",
       "      <td>0</td>\n",
       "      <td>0</td>\n",
       "      <td>1</td>\n",
       "      <td>1</td>\n",
       "    </tr>\n",
       "    <tr>\n",
       "      <th>2</th>\n",
       "      <td>5</td>\n",
       "      <td>2</td>\n",
       "      <td>0</td>\n",
       "      <td>3</td>\n",
       "      <td>1</td>\n",
       "      <td>1</td>\n",
       "      <td>0</td>\n",
       "      <td>1</td>\n",
       "      <td>4</td>\n",
       "      <td>2</td>\n",
       "      <td>...</td>\n",
       "      <td>0</td>\n",
       "      <td>0</td>\n",
       "      <td>1</td>\n",
       "      <td>1</td>\n",
       "      <td>1</td>\n",
       "      <td>0</td>\n",
       "      <td>0</td>\n",
       "      <td>0</td>\n",
       "      <td>1</td>\n",
       "      <td>0</td>\n",
       "    </tr>\n",
       "    <tr>\n",
       "      <th>3</th>\n",
       "      <td>5</td>\n",
       "      <td>2</td>\n",
       "      <td>0</td>\n",
       "      <td>3</td>\n",
       "      <td>1</td>\n",
       "      <td>1</td>\n",
       "      <td>0</td>\n",
       "      <td>1</td>\n",
       "      <td>4</td>\n",
       "      <td>2</td>\n",
       "      <td>...</td>\n",
       "      <td>0</td>\n",
       "      <td>0</td>\n",
       "      <td>1</td>\n",
       "      <td>3</td>\n",
       "      <td>0</td>\n",
       "      <td>0</td>\n",
       "      <td>0</td>\n",
       "      <td>0</td>\n",
       "      <td>1</td>\n",
       "      <td>1</td>\n",
       "    </tr>\n",
       "    <tr>\n",
       "      <th>4</th>\n",
       "      <td>4</td>\n",
       "      <td>2</td>\n",
       "      <td>0</td>\n",
       "      <td>3</td>\n",
       "      <td>1</td>\n",
       "      <td>0</td>\n",
       "      <td>0</td>\n",
       "      <td>1</td>\n",
       "      <td>4</td>\n",
       "      <td>2</td>\n",
       "      <td>...</td>\n",
       "      <td>0</td>\n",
       "      <td>0</td>\n",
       "      <td>1</td>\n",
       "      <td>1</td>\n",
       "      <td>1</td>\n",
       "      <td>0</td>\n",
       "      <td>0</td>\n",
       "      <td>0</td>\n",
       "      <td>3</td>\n",
       "      <td>0</td>\n",
       "    </tr>\n",
       "  </tbody>\n",
       "</table>\n",
       "<p>5 rows × 21 columns</p>\n",
       "</div>"
      ],
      "text/plain": [
       "   Mother's Age  Residence  Education level  Wealth Index  Breastfeed  \\\n",
       "0             4          2                0             3           1   \n",
       "1             4          2                0             3           1   \n",
       "2             5          2                0             3           1   \n",
       "3             5          2                0             3           1   \n",
       "4             4          2                0             3           1   \n",
       "\n",
       "   Anemia Level  Husband's education level  Working status  Birth order  \\\n",
       "0             1                          0               1            4   \n",
       "1             1                          0               1            4   \n",
       "2             1                          0               1            4   \n",
       "3             1                          0               1            4   \n",
       "4             0                          0               1            4   \n",
       "\n",
       "   Sex of child  ...  Diarrhea  Fever  Vitamin A  Child's Age  Child's Anemia  \\\n",
       "0             2  ...         0      0          1            1               1   \n",
       "1             2  ...         0      0          1            3               1   \n",
       "2             2  ...         0      0          1            1               1   \n",
       "3             2  ...         0      0          1            3               0   \n",
       "4             2  ...         0      0          1            1               1   \n",
       "\n",
       "   SODW  TOTF  Media exposure  Mother BMI  Combined  \n",
       "0     0     0               0           1         0  \n",
       "1     0     0               0           1         1  \n",
       "2     0     0               0           1         0  \n",
       "3     0     0               0           1         1  \n",
       "4     0     0               0           3         0  \n",
       "\n",
       "[5 rows x 21 columns]"
      ]
     },
     "execution_count": 3,
     "metadata": {},
     "output_type": "execute_result"
    }
   ],
   "source": [
    "df.head()"
   ]
  },
  {
   "cell_type": "code",
   "execution_count": 4,
   "id": "5f5fa74c",
   "metadata": {},
   "outputs": [
    {
     "data": {
      "text/plain": [
       "Mother's Age                 0\n",
       "Residence                    0\n",
       "Education level              0\n",
       "Wealth Index                 0\n",
       "Breastfeed                   0\n",
       "Anemia Level                 0\n",
       "Husband's education level    0\n",
       "Working status               0\n",
       "Birth order                  0\n",
       "Sex of child                 0\n",
       "Size of child                0\n",
       "Diarrhea                     0\n",
       "Fever                        0\n",
       "Vitamin A                    0\n",
       "Child's Age                  0\n",
       "Child's Anemia               0\n",
       "SODW                         0\n",
       "TOTF                         0\n",
       "Media exposure               0\n",
       "Mother BMI                   0\n",
       "Combined                     0\n",
       "dtype: int64"
      ]
     },
     "execution_count": 4,
     "metadata": {},
     "output_type": "execute_result"
    }
   ],
   "source": [
    "df.isnull().sum()"
   ]
  },
  {
   "cell_type": "code",
   "execution_count": 5,
   "id": "5e4568cc",
   "metadata": {},
   "outputs": [
    {
     "data": {
      "text/plain": [
       "1    34158\n",
       "0    22085\n",
       "Name: Combined, dtype: int64"
      ]
     },
     "execution_count": 5,
     "metadata": {},
     "output_type": "execute_result"
    }
   ],
   "source": [
    "df.Combined.value_counts()"
   ]
  },
  {
   "cell_type": "code",
   "execution_count": 6,
   "id": "8163a326",
   "metadata": {},
   "outputs": [],
   "source": [
    "## data balancing\n",
    "#spliting the testing and training data \n",
    "\n",
    "\n",
    "df_test=df[34000:]\n",
    "df_train=df[:34000]\n",
    "\n",
    "\n",
    "X_test = df_test.drop('Combined', axis=1)\n",
    "Y_test = df_test['Combined']"
   ]
  },
  {
   "cell_type": "code",
   "execution_count": 7,
   "id": "ab3e60ff",
   "metadata": {},
   "outputs": [],
   "source": [
    "##resampling\n",
    "# Separate majority and minority classes\n",
    "\n",
    "df_minority = df_train[df_train.Combined==0]\n",
    "df_majority = df_train[df_train.Combined==1]"
   ]
  },
  {
   "cell_type": "code",
   "execution_count": 8,
   "id": "452367a9",
   "metadata": {},
   "outputs": [
    {
     "data": {
      "text/plain": [
       "((20797, 21), (13203, 21))"
      ]
     },
     "execution_count": 8,
     "metadata": {},
     "output_type": "execute_result"
    }
   ],
   "source": [
    "df_majority.shape,df_minority.shape"
   ]
  },
  {
   "cell_type": "code",
   "execution_count": 9,
   "id": "7abc0711",
   "metadata": {},
   "outputs": [],
   "source": [
    "from sklearn.utils import resample\n",
    "df_minority_upsampled = resample(df_minority, \n",
    "                                 replace=True,     # sample with replacement\n",
    "                                 n_samples=20797,    # to match majority class\n",
    "                                 random_state=123)"
   ]
  },
  {
   "cell_type": "code",
   "execution_count": 10,
   "id": "041fff2f",
   "metadata": {},
   "outputs": [
    {
     "data": {
      "text/html": [
       "<div>\n",
       "<style scoped>\n",
       "    .dataframe tbody tr th:only-of-type {\n",
       "        vertical-align: middle;\n",
       "    }\n",
       "\n",
       "    .dataframe tbody tr th {\n",
       "        vertical-align: top;\n",
       "    }\n",
       "\n",
       "    .dataframe thead th {\n",
       "        text-align: right;\n",
       "    }\n",
       "</style>\n",
       "<table border=\"1\" class=\"dataframe\">\n",
       "  <thead>\n",
       "    <tr style=\"text-align: right;\">\n",
       "      <th></th>\n",
       "      <th>Mother's Age</th>\n",
       "      <th>Residence</th>\n",
       "      <th>Education level</th>\n",
       "      <th>Wealth Index</th>\n",
       "      <th>Breastfeed</th>\n",
       "      <th>Anemia Level</th>\n",
       "      <th>Husband's education level</th>\n",
       "      <th>Working status</th>\n",
       "      <th>Birth order</th>\n",
       "      <th>Sex of child</th>\n",
       "      <th>...</th>\n",
       "      <th>Diarrhea</th>\n",
       "      <th>Fever</th>\n",
       "      <th>Vitamin A</th>\n",
       "      <th>Child's Age</th>\n",
       "      <th>Child's Anemia</th>\n",
       "      <th>SODW</th>\n",
       "      <th>TOTF</th>\n",
       "      <th>Media exposure</th>\n",
       "      <th>Mother BMI</th>\n",
       "      <th>Combined</th>\n",
       "    </tr>\n",
       "  </thead>\n",
       "  <tbody>\n",
       "    <tr>\n",
       "      <th>7788</th>\n",
       "      <td>3</td>\n",
       "      <td>2</td>\n",
       "      <td>0</td>\n",
       "      <td>1</td>\n",
       "      <td>0</td>\n",
       "      <td>0</td>\n",
       "      <td>0</td>\n",
       "      <td>1</td>\n",
       "      <td>2</td>\n",
       "      <td>1</td>\n",
       "      <td>...</td>\n",
       "      <td>0</td>\n",
       "      <td>1</td>\n",
       "      <td>1</td>\n",
       "      <td>3</td>\n",
       "      <td>1</td>\n",
       "      <td>1</td>\n",
       "      <td>0</td>\n",
       "      <td>0</td>\n",
       "      <td>1</td>\n",
       "      <td>0</td>\n",
       "    </tr>\n",
       "    <tr>\n",
       "      <th>29526</th>\n",
       "      <td>4</td>\n",
       "      <td>2</td>\n",
       "      <td>0</td>\n",
       "      <td>2</td>\n",
       "      <td>1</td>\n",
       "      <td>1</td>\n",
       "      <td>0</td>\n",
       "      <td>0</td>\n",
       "      <td>4</td>\n",
       "      <td>2</td>\n",
       "      <td>...</td>\n",
       "      <td>0</td>\n",
       "      <td>1</td>\n",
       "      <td>0</td>\n",
       "      <td>2</td>\n",
       "      <td>1</td>\n",
       "      <td>0</td>\n",
       "      <td>0</td>\n",
       "      <td>0</td>\n",
       "      <td>3</td>\n",
       "      <td>0</td>\n",
       "    </tr>\n",
       "    <tr>\n",
       "      <th>3345</th>\n",
       "      <td>3</td>\n",
       "      <td>1</td>\n",
       "      <td>0</td>\n",
       "      <td>4</td>\n",
       "      <td>0</td>\n",
       "      <td>1</td>\n",
       "      <td>1</td>\n",
       "      <td>0</td>\n",
       "      <td>3</td>\n",
       "      <td>1</td>\n",
       "      <td>...</td>\n",
       "      <td>0</td>\n",
       "      <td>1</td>\n",
       "      <td>1</td>\n",
       "      <td>2</td>\n",
       "      <td>1</td>\n",
       "      <td>1</td>\n",
       "      <td>1</td>\n",
       "      <td>0</td>\n",
       "      <td>1</td>\n",
       "      <td>0</td>\n",
       "    </tr>\n",
       "    <tr>\n",
       "      <th>31073</th>\n",
       "      <td>3</td>\n",
       "      <td>2</td>\n",
       "      <td>1</td>\n",
       "      <td>3</td>\n",
       "      <td>0</td>\n",
       "      <td>1</td>\n",
       "      <td>2</td>\n",
       "      <td>0</td>\n",
       "      <td>3</td>\n",
       "      <td>1</td>\n",
       "      <td>...</td>\n",
       "      <td>0</td>\n",
       "      <td>1</td>\n",
       "      <td>0</td>\n",
       "      <td>1</td>\n",
       "      <td>1</td>\n",
       "      <td>1</td>\n",
       "      <td>0</td>\n",
       "      <td>0</td>\n",
       "      <td>3</td>\n",
       "      <td>0</td>\n",
       "    </tr>\n",
       "    <tr>\n",
       "      <th>10504</th>\n",
       "      <td>7</td>\n",
       "      <td>2</td>\n",
       "      <td>0</td>\n",
       "      <td>1</td>\n",
       "      <td>0</td>\n",
       "      <td>0</td>\n",
       "      <td>1</td>\n",
       "      <td>1</td>\n",
       "      <td>4</td>\n",
       "      <td>2</td>\n",
       "      <td>...</td>\n",
       "      <td>0</td>\n",
       "      <td>1</td>\n",
       "      <td>1</td>\n",
       "      <td>3</td>\n",
       "      <td>0</td>\n",
       "      <td>1</td>\n",
       "      <td>0</td>\n",
       "      <td>0</td>\n",
       "      <td>1</td>\n",
       "      <td>0</td>\n",
       "    </tr>\n",
       "    <tr>\n",
       "      <th>...</th>\n",
       "      <td>...</td>\n",
       "      <td>...</td>\n",
       "      <td>...</td>\n",
       "      <td>...</td>\n",
       "      <td>...</td>\n",
       "      <td>...</td>\n",
       "      <td>...</td>\n",
       "      <td>...</td>\n",
       "      <td>...</td>\n",
       "      <td>...</td>\n",
       "      <td>...</td>\n",
       "      <td>...</td>\n",
       "      <td>...</td>\n",
       "      <td>...</td>\n",
       "      <td>...</td>\n",
       "      <td>...</td>\n",
       "      <td>...</td>\n",
       "      <td>...</td>\n",
       "      <td>...</td>\n",
       "      <td>...</td>\n",
       "      <td>...</td>\n",
       "    </tr>\n",
       "    <tr>\n",
       "      <th>1759</th>\n",
       "      <td>3</td>\n",
       "      <td>2</td>\n",
       "      <td>0</td>\n",
       "      <td>1</td>\n",
       "      <td>1</td>\n",
       "      <td>1</td>\n",
       "      <td>0</td>\n",
       "      <td>1</td>\n",
       "      <td>4</td>\n",
       "      <td>1</td>\n",
       "      <td>...</td>\n",
       "      <td>0</td>\n",
       "      <td>0</td>\n",
       "      <td>0</td>\n",
       "      <td>1</td>\n",
       "      <td>1</td>\n",
       "      <td>1</td>\n",
       "      <td>0</td>\n",
       "      <td>1</td>\n",
       "      <td>1</td>\n",
       "      <td>0</td>\n",
       "    </tr>\n",
       "    <tr>\n",
       "      <th>7570</th>\n",
       "      <td>4</td>\n",
       "      <td>2</td>\n",
       "      <td>0</td>\n",
       "      <td>2</td>\n",
       "      <td>0</td>\n",
       "      <td>1</td>\n",
       "      <td>0</td>\n",
       "      <td>1</td>\n",
       "      <td>4</td>\n",
       "      <td>1</td>\n",
       "      <td>...</td>\n",
       "      <td>1</td>\n",
       "      <td>0</td>\n",
       "      <td>0</td>\n",
       "      <td>2</td>\n",
       "      <td>1</td>\n",
       "      <td>1</td>\n",
       "      <td>1</td>\n",
       "      <td>0</td>\n",
       "      <td>2</td>\n",
       "      <td>0</td>\n",
       "    </tr>\n",
       "    <tr>\n",
       "      <th>12431</th>\n",
       "      <td>4</td>\n",
       "      <td>1</td>\n",
       "      <td>2</td>\n",
       "      <td>4</td>\n",
       "      <td>1</td>\n",
       "      <td>1</td>\n",
       "      <td>2</td>\n",
       "      <td>1</td>\n",
       "      <td>4</td>\n",
       "      <td>1</td>\n",
       "      <td>...</td>\n",
       "      <td>1</td>\n",
       "      <td>1</td>\n",
       "      <td>1</td>\n",
       "      <td>1</td>\n",
       "      <td>1</td>\n",
       "      <td>1</td>\n",
       "      <td>0</td>\n",
       "      <td>1</td>\n",
       "      <td>2</td>\n",
       "      <td>0</td>\n",
       "    </tr>\n",
       "    <tr>\n",
       "      <th>9004</th>\n",
       "      <td>4</td>\n",
       "      <td>2</td>\n",
       "      <td>0</td>\n",
       "      <td>3</td>\n",
       "      <td>0</td>\n",
       "      <td>0</td>\n",
       "      <td>0</td>\n",
       "      <td>1</td>\n",
       "      <td>4</td>\n",
       "      <td>2</td>\n",
       "      <td>...</td>\n",
       "      <td>0</td>\n",
       "      <td>1</td>\n",
       "      <td>0</td>\n",
       "      <td>3</td>\n",
       "      <td>1</td>\n",
       "      <td>0</td>\n",
       "      <td>0</td>\n",
       "      <td>0</td>\n",
       "      <td>1</td>\n",
       "      <td>0</td>\n",
       "    </tr>\n",
       "    <tr>\n",
       "      <th>29035</th>\n",
       "      <td>4</td>\n",
       "      <td>1</td>\n",
       "      <td>3</td>\n",
       "      <td>5</td>\n",
       "      <td>1</td>\n",
       "      <td>0</td>\n",
       "      <td>2</td>\n",
       "      <td>1</td>\n",
       "      <td>2</td>\n",
       "      <td>1</td>\n",
       "      <td>...</td>\n",
       "      <td>0</td>\n",
       "      <td>0</td>\n",
       "      <td>1</td>\n",
       "      <td>1</td>\n",
       "      <td>1</td>\n",
       "      <td>1</td>\n",
       "      <td>1</td>\n",
       "      <td>2</td>\n",
       "      <td>1</td>\n",
       "      <td>0</td>\n",
       "    </tr>\n",
       "  </tbody>\n",
       "</table>\n",
       "<p>20797 rows × 21 columns</p>\n",
       "</div>"
      ],
      "text/plain": [
       "       Mother's Age  Residence  Education level  Wealth Index  Breastfeed  \\\n",
       "7788              3          2                0             1           0   \n",
       "29526             4          2                0             2           1   \n",
       "3345              3          1                0             4           0   \n",
       "31073             3          2                1             3           0   \n",
       "10504             7          2                0             1           0   \n",
       "...             ...        ...              ...           ...         ...   \n",
       "1759              3          2                0             1           1   \n",
       "7570              4          2                0             2           0   \n",
       "12431             4          1                2             4           1   \n",
       "9004              4          2                0             3           0   \n",
       "29035             4          1                3             5           1   \n",
       "\n",
       "       Anemia Level  Husband's education level  Working status  Birth order  \\\n",
       "7788              0                          0               1            2   \n",
       "29526             1                          0               0            4   \n",
       "3345              1                          1               0            3   \n",
       "31073             1                          2               0            3   \n",
       "10504             0                          1               1            4   \n",
       "...             ...                        ...             ...          ...   \n",
       "1759              1                          0               1            4   \n",
       "7570              1                          0               1            4   \n",
       "12431             1                          2               1            4   \n",
       "9004              0                          0               1            4   \n",
       "29035             0                          2               1            2   \n",
       "\n",
       "       Sex of child  ...  Diarrhea  Fever  Vitamin A  Child's Age  \\\n",
       "7788              1  ...         0      1          1            3   \n",
       "29526             2  ...         0      1          0            2   \n",
       "3345              1  ...         0      1          1            2   \n",
       "31073             1  ...         0      1          0            1   \n",
       "10504             2  ...         0      1          1            3   \n",
       "...             ...  ...       ...    ...        ...          ...   \n",
       "1759              1  ...         0      0          0            1   \n",
       "7570              1  ...         1      0          0            2   \n",
       "12431             1  ...         1      1          1            1   \n",
       "9004              2  ...         0      1          0            3   \n",
       "29035             1  ...         0      0          1            1   \n",
       "\n",
       "       Child's Anemia  SODW  TOTF  Media exposure  Mother BMI  Combined  \n",
       "7788                1     1     0               0           1         0  \n",
       "29526               1     0     0               0           3         0  \n",
       "3345                1     1     1               0           1         0  \n",
       "31073               1     1     0               0           3         0  \n",
       "10504               0     1     0               0           1         0  \n",
       "...               ...   ...   ...             ...         ...       ...  \n",
       "1759                1     1     0               1           1         0  \n",
       "7570                1     1     1               0           2         0  \n",
       "12431               1     1     0               1           2         0  \n",
       "9004                1     0     0               0           1         0  \n",
       "29035               1     1     1               2           1         0  \n",
       "\n",
       "[20797 rows x 21 columns]"
      ]
     },
     "execution_count": 10,
     "metadata": {},
     "output_type": "execute_result"
    }
   ],
   "source": [
    "df_minority_upsampled"
   ]
  },
  {
   "cell_type": "code",
   "execution_count": 11,
   "id": "be410d41",
   "metadata": {},
   "outputs": [],
   "source": [
    "##upsampled\n",
    "df_upsampled = pd.concat([df_majority, df_minority_upsampled])"
   ]
  },
  {
   "cell_type": "code",
   "execution_count": 12,
   "id": "ca58da2f",
   "metadata": {},
   "outputs": [
    {
     "data": {
      "text/html": [
       "<div>\n",
       "<style scoped>\n",
       "    .dataframe tbody tr th:only-of-type {\n",
       "        vertical-align: middle;\n",
       "    }\n",
       "\n",
       "    .dataframe tbody tr th {\n",
       "        vertical-align: top;\n",
       "    }\n",
       "\n",
       "    .dataframe thead th {\n",
       "        text-align: right;\n",
       "    }\n",
       "</style>\n",
       "<table border=\"1\" class=\"dataframe\">\n",
       "  <thead>\n",
       "    <tr style=\"text-align: right;\">\n",
       "      <th></th>\n",
       "      <th>Mother's Age</th>\n",
       "      <th>Residence</th>\n",
       "      <th>Education level</th>\n",
       "      <th>Wealth Index</th>\n",
       "      <th>Breastfeed</th>\n",
       "      <th>Anemia Level</th>\n",
       "      <th>Husband's education level</th>\n",
       "      <th>Working status</th>\n",
       "      <th>Birth order</th>\n",
       "      <th>Sex of child</th>\n",
       "      <th>...</th>\n",
       "      <th>Diarrhea</th>\n",
       "      <th>Fever</th>\n",
       "      <th>Vitamin A</th>\n",
       "      <th>Child's Age</th>\n",
       "      <th>Child's Anemia</th>\n",
       "      <th>SODW</th>\n",
       "      <th>TOTF</th>\n",
       "      <th>Media exposure</th>\n",
       "      <th>Mother BMI</th>\n",
       "      <th>Combined</th>\n",
       "    </tr>\n",
       "  </thead>\n",
       "  <tbody>\n",
       "    <tr>\n",
       "      <th>1</th>\n",
       "      <td>4</td>\n",
       "      <td>2</td>\n",
       "      <td>0</td>\n",
       "      <td>3</td>\n",
       "      <td>1</td>\n",
       "      <td>1</td>\n",
       "      <td>0</td>\n",
       "      <td>1</td>\n",
       "      <td>4</td>\n",
       "      <td>2</td>\n",
       "      <td>...</td>\n",
       "      <td>0</td>\n",
       "      <td>0</td>\n",
       "      <td>1</td>\n",
       "      <td>3</td>\n",
       "      <td>1</td>\n",
       "      <td>0</td>\n",
       "      <td>0</td>\n",
       "      <td>0</td>\n",
       "      <td>1</td>\n",
       "      <td>1</td>\n",
       "    </tr>\n",
       "    <tr>\n",
       "      <th>3</th>\n",
       "      <td>5</td>\n",
       "      <td>2</td>\n",
       "      <td>0</td>\n",
       "      <td>3</td>\n",
       "      <td>1</td>\n",
       "      <td>1</td>\n",
       "      <td>0</td>\n",
       "      <td>1</td>\n",
       "      <td>4</td>\n",
       "      <td>2</td>\n",
       "      <td>...</td>\n",
       "      <td>0</td>\n",
       "      <td>0</td>\n",
       "      <td>1</td>\n",
       "      <td>3</td>\n",
       "      <td>0</td>\n",
       "      <td>0</td>\n",
       "      <td>0</td>\n",
       "      <td>0</td>\n",
       "      <td>1</td>\n",
       "      <td>1</td>\n",
       "    </tr>\n",
       "    <tr>\n",
       "      <th>6</th>\n",
       "      <td>3</td>\n",
       "      <td>2</td>\n",
       "      <td>0</td>\n",
       "      <td>3</td>\n",
       "      <td>1</td>\n",
       "      <td>1</td>\n",
       "      <td>0</td>\n",
       "      <td>1</td>\n",
       "      <td>4</td>\n",
       "      <td>2</td>\n",
       "      <td>...</td>\n",
       "      <td>0</td>\n",
       "      <td>0</td>\n",
       "      <td>1</td>\n",
       "      <td>1</td>\n",
       "      <td>1</td>\n",
       "      <td>0</td>\n",
       "      <td>0</td>\n",
       "      <td>0</td>\n",
       "      <td>1</td>\n",
       "      <td>1</td>\n",
       "    </tr>\n",
       "    <tr>\n",
       "      <th>9</th>\n",
       "      <td>5</td>\n",
       "      <td>2</td>\n",
       "      <td>0</td>\n",
       "      <td>2</td>\n",
       "      <td>0</td>\n",
       "      <td>1</td>\n",
       "      <td>0</td>\n",
       "      <td>1</td>\n",
       "      <td>4</td>\n",
       "      <td>1</td>\n",
       "      <td>...</td>\n",
       "      <td>0</td>\n",
       "      <td>0</td>\n",
       "      <td>1</td>\n",
       "      <td>2</td>\n",
       "      <td>1</td>\n",
       "      <td>0</td>\n",
       "      <td>0</td>\n",
       "      <td>0</td>\n",
       "      <td>1</td>\n",
       "      <td>1</td>\n",
       "    </tr>\n",
       "    <tr>\n",
       "      <th>12</th>\n",
       "      <td>2</td>\n",
       "      <td>2</td>\n",
       "      <td>0</td>\n",
       "      <td>3</td>\n",
       "      <td>1</td>\n",
       "      <td>1</td>\n",
       "      <td>0</td>\n",
       "      <td>1</td>\n",
       "      <td>1</td>\n",
       "      <td>1</td>\n",
       "      <td>...</td>\n",
       "      <td>1</td>\n",
       "      <td>1</td>\n",
       "      <td>0</td>\n",
       "      <td>1</td>\n",
       "      <td>1</td>\n",
       "      <td>0</td>\n",
       "      <td>0</td>\n",
       "      <td>1</td>\n",
       "      <td>1</td>\n",
       "      <td>1</td>\n",
       "    </tr>\n",
       "    <tr>\n",
       "      <th>...</th>\n",
       "      <td>...</td>\n",
       "      <td>...</td>\n",
       "      <td>...</td>\n",
       "      <td>...</td>\n",
       "      <td>...</td>\n",
       "      <td>...</td>\n",
       "      <td>...</td>\n",
       "      <td>...</td>\n",
       "      <td>...</td>\n",
       "      <td>...</td>\n",
       "      <td>...</td>\n",
       "      <td>...</td>\n",
       "      <td>...</td>\n",
       "      <td>...</td>\n",
       "      <td>...</td>\n",
       "      <td>...</td>\n",
       "      <td>...</td>\n",
       "      <td>...</td>\n",
       "      <td>...</td>\n",
       "      <td>...</td>\n",
       "      <td>...</td>\n",
       "    </tr>\n",
       "    <tr>\n",
       "      <th>1759</th>\n",
       "      <td>3</td>\n",
       "      <td>2</td>\n",
       "      <td>0</td>\n",
       "      <td>1</td>\n",
       "      <td>1</td>\n",
       "      <td>1</td>\n",
       "      <td>0</td>\n",
       "      <td>1</td>\n",
       "      <td>4</td>\n",
       "      <td>1</td>\n",
       "      <td>...</td>\n",
       "      <td>0</td>\n",
       "      <td>0</td>\n",
       "      <td>0</td>\n",
       "      <td>1</td>\n",
       "      <td>1</td>\n",
       "      <td>1</td>\n",
       "      <td>0</td>\n",
       "      <td>1</td>\n",
       "      <td>1</td>\n",
       "      <td>0</td>\n",
       "    </tr>\n",
       "    <tr>\n",
       "      <th>7570</th>\n",
       "      <td>4</td>\n",
       "      <td>2</td>\n",
       "      <td>0</td>\n",
       "      <td>2</td>\n",
       "      <td>0</td>\n",
       "      <td>1</td>\n",
       "      <td>0</td>\n",
       "      <td>1</td>\n",
       "      <td>4</td>\n",
       "      <td>1</td>\n",
       "      <td>...</td>\n",
       "      <td>1</td>\n",
       "      <td>0</td>\n",
       "      <td>0</td>\n",
       "      <td>2</td>\n",
       "      <td>1</td>\n",
       "      <td>1</td>\n",
       "      <td>1</td>\n",
       "      <td>0</td>\n",
       "      <td>2</td>\n",
       "      <td>0</td>\n",
       "    </tr>\n",
       "    <tr>\n",
       "      <th>12431</th>\n",
       "      <td>4</td>\n",
       "      <td>1</td>\n",
       "      <td>2</td>\n",
       "      <td>4</td>\n",
       "      <td>1</td>\n",
       "      <td>1</td>\n",
       "      <td>2</td>\n",
       "      <td>1</td>\n",
       "      <td>4</td>\n",
       "      <td>1</td>\n",
       "      <td>...</td>\n",
       "      <td>1</td>\n",
       "      <td>1</td>\n",
       "      <td>1</td>\n",
       "      <td>1</td>\n",
       "      <td>1</td>\n",
       "      <td>1</td>\n",
       "      <td>0</td>\n",
       "      <td>1</td>\n",
       "      <td>2</td>\n",
       "      <td>0</td>\n",
       "    </tr>\n",
       "    <tr>\n",
       "      <th>9004</th>\n",
       "      <td>4</td>\n",
       "      <td>2</td>\n",
       "      <td>0</td>\n",
       "      <td>3</td>\n",
       "      <td>0</td>\n",
       "      <td>0</td>\n",
       "      <td>0</td>\n",
       "      <td>1</td>\n",
       "      <td>4</td>\n",
       "      <td>2</td>\n",
       "      <td>...</td>\n",
       "      <td>0</td>\n",
       "      <td>1</td>\n",
       "      <td>0</td>\n",
       "      <td>3</td>\n",
       "      <td>1</td>\n",
       "      <td>0</td>\n",
       "      <td>0</td>\n",
       "      <td>0</td>\n",
       "      <td>1</td>\n",
       "      <td>0</td>\n",
       "    </tr>\n",
       "    <tr>\n",
       "      <th>29035</th>\n",
       "      <td>4</td>\n",
       "      <td>1</td>\n",
       "      <td>3</td>\n",
       "      <td>5</td>\n",
       "      <td>1</td>\n",
       "      <td>0</td>\n",
       "      <td>2</td>\n",
       "      <td>1</td>\n",
       "      <td>2</td>\n",
       "      <td>1</td>\n",
       "      <td>...</td>\n",
       "      <td>0</td>\n",
       "      <td>0</td>\n",
       "      <td>1</td>\n",
       "      <td>1</td>\n",
       "      <td>1</td>\n",
       "      <td>1</td>\n",
       "      <td>1</td>\n",
       "      <td>2</td>\n",
       "      <td>1</td>\n",
       "      <td>0</td>\n",
       "    </tr>\n",
       "  </tbody>\n",
       "</table>\n",
       "<p>41594 rows × 21 columns</p>\n",
       "</div>"
      ],
      "text/plain": [
       "       Mother's Age  Residence  Education level  Wealth Index  Breastfeed  \\\n",
       "1                 4          2                0             3           1   \n",
       "3                 5          2                0             3           1   \n",
       "6                 3          2                0             3           1   \n",
       "9                 5          2                0             2           0   \n",
       "12                2          2                0             3           1   \n",
       "...             ...        ...              ...           ...         ...   \n",
       "1759              3          2                0             1           1   \n",
       "7570              4          2                0             2           0   \n",
       "12431             4          1                2             4           1   \n",
       "9004              4          2                0             3           0   \n",
       "29035             4          1                3             5           1   \n",
       "\n",
       "       Anemia Level  Husband's education level  Working status  Birth order  \\\n",
       "1                 1                          0               1            4   \n",
       "3                 1                          0               1            4   \n",
       "6                 1                          0               1            4   \n",
       "9                 1                          0               1            4   \n",
       "12                1                          0               1            1   \n",
       "...             ...                        ...             ...          ...   \n",
       "1759              1                          0               1            4   \n",
       "7570              1                          0               1            4   \n",
       "12431             1                          2               1            4   \n",
       "9004              0                          0               1            4   \n",
       "29035             0                          2               1            2   \n",
       "\n",
       "       Sex of child  ...  Diarrhea  Fever  Vitamin A  Child's Age  \\\n",
       "1                 2  ...         0      0          1            3   \n",
       "3                 2  ...         0      0          1            3   \n",
       "6                 2  ...         0      0          1            1   \n",
       "9                 1  ...         0      0          1            2   \n",
       "12                1  ...         1      1          0            1   \n",
       "...             ...  ...       ...    ...        ...          ...   \n",
       "1759              1  ...         0      0          0            1   \n",
       "7570              1  ...         1      0          0            2   \n",
       "12431             1  ...         1      1          1            1   \n",
       "9004              2  ...         0      1          0            3   \n",
       "29035             1  ...         0      0          1            1   \n",
       "\n",
       "       Child's Anemia  SODW  TOTF  Media exposure  Mother BMI  Combined  \n",
       "1                   1     0     0               0           1         1  \n",
       "3                   0     0     0               0           1         1  \n",
       "6                   1     0     0               0           1         1  \n",
       "9                   1     0     0               0           1         1  \n",
       "12                  1     0     0               1           1         1  \n",
       "...               ...   ...   ...             ...         ...       ...  \n",
       "1759                1     1     0               1           1         0  \n",
       "7570                1     1     1               0           2         0  \n",
       "12431               1     1     0               1           2         0  \n",
       "9004                1     0     0               0           1         0  \n",
       "29035               1     1     1               2           1         0  \n",
       "\n",
       "[41594 rows x 21 columns]"
      ]
     },
     "execution_count": 12,
     "metadata": {},
     "output_type": "execute_result"
    }
   ],
   "source": [
    "df_upsampled"
   ]
  },
  {
   "cell_type": "code",
   "execution_count": 13,
   "id": "b235bbbb",
   "metadata": {},
   "outputs": [],
   "source": [
    "X = df_upsampled.drop('Combined', axis=1)\n",
    "y = df_upsampled['Combined']\n",
    "y.value_counts()\n",
    "from sklearn.model_selection import train_test_split\n",
    "X_train, X_test, y_train, y_test = train_test_split(X,y, test_size=0.2,stratify=y)"
   ]
  },
  {
   "cell_type": "code",
   "execution_count": 19,
   "id": "dac5295d",
   "metadata": {},
   "outputs": [
    {
     "name": "stdout",
     "output_type": "stream",
     "text": [
      "Best Hyper Parameters:\n",
      " {'n_neighbors': 25, 'p': 1, 'weights': 'distance'}\n"
     ]
    }
   ],
   "source": [
    "##KNN\n",
    "params = {'n_neighbors':[15,20,25,30,50],  'weights':['uniform', 'distance'],'p':[1,2]}\n",
    "knn = KNeighborsClassifier()\n",
    "knn_grid_cv = GridSearchCV(knn, param_grid=params, cv=10) \n",
    "knn_grid_cv.fit(X_train, y_train)\n",
    "print(\"Best Hyper Parameters:\\n\",knn_grid_cv.best_params_)\n",
    "## parameter tuning"
   ]
  },
  {
   "cell_type": "code",
   "execution_count": 14,
   "id": "9b0be0cf",
   "metadata": {},
   "outputs": [
    {
     "name": "stdout",
     "output_type": "stream",
     "text": [
      "Accuracy: 0.7413150619064791\n"
     ]
    }
   ],
   "source": [
    "from sklearn.model_selection import train_test_split\n",
    "X_train, X_test, y_train, y_test = train_test_split(X, y, test_size=0.2,stratify=y, random_state=0)\n",
    "knn = KNeighborsClassifier(n_neighbors=25, p=1, weights='distance')\n",
    "knn.fit(X_train, y_train)\n",
    "y_hat_knn = knn.predict(X_test)\n",
    "print('Accuracy:',accuracy_score(y_test, y_hat_knn))"
   ]
  },
  {
   "cell_type": "code",
   "execution_count": 15,
   "id": "b19f27b9",
   "metadata": {},
   "outputs": [
    {
     "name": "stdout",
     "output_type": "stream",
     "text": [
      "Sensitivity: 0.8901442307692308\n",
      "Specificity: 0.5924501081990863\n"
     ]
    }
   ],
   "source": [
    "cm_knn= confusion_matrix(y_test, y_hat_knn)\n",
    "sn=cm_knn[0,0]/(cm_knn[0,0]+cm_knn[0,1])\n",
    "print('Sensitivity:', sn)\n",
    "sp=cm_knn[1,1]/(cm_knn[1,0]+cm_knn[1,1])\n",
    "print('Specificity:', sp)\n"
   ]
  },
  {
   "cell_type": "code",
   "execution_count": 16,
   "id": "11a118d1",
   "metadata": {},
   "outputs": [
    {
     "name": "stdout",
     "output_type": "stream",
     "text": [
      "AUC: 0.7412971694841585\n",
      "MCC: 0.5055232448908166\n",
      "MSE: 0.25868493809352083\n",
      "KAPPA: 0.48261160554172544\n",
      "Log Loss: 8.93470515901832\n"
     ]
    }
   ],
   "source": [
    "print('AUC:', roc_auc_score(y_test, y_hat_knn))\n",
    "print('MCC:', matthews_corrcoef(y_test, y_hat_knn))\n",
    "print('MSE:', mean_squared_error(y_test,y_hat_knn))\n",
    "print('KAPPA:', cohen_kappa_score(y_test, y_hat_knn))\n",
    "print('Log Loss:', log_loss(y_test,y_hat_knn))"
   ]
  },
  {
   "cell_type": "code",
   "execution_count": 17,
   "id": "9d2d1e5c",
   "metadata": {},
   "outputs": [
    {
     "name": "stdout",
     "output_type": "stream",
     "text": [
      "              precision    recall  f1-score   support\n",
      "\n",
      "           0       0.69      0.89      0.77      4160\n",
      "           1       0.84      0.59      0.70      4159\n",
      "\n",
      "    accuracy                           0.74      8319\n",
      "   macro avg       0.76      0.74      0.74      8319\n",
      "weighted avg       0.76      0.74      0.74      8319\n",
      "\n",
      "Accuracy: 0.7413150619064791\n"
     ]
    }
   ],
   "source": [
    "y_hat_knn = knn.predict(X_test)\n",
    "print(classification_report(y_test, y_hat_knn))\n",
    "print('Accuracy:',accuracy_score(y_test, y_hat_knn))"
   ]
  },
  {
   "cell_type": "code",
   "execution_count": 18,
   "id": "021a2f2f",
   "metadata": {},
   "outputs": [
    {
     "name": "stdout",
     "output_type": "stream",
     "text": [
      "Cross validation accuracy of KNN model= [0.73467548 0.73257212 0.73257212 0.71484375 0.73106971 0.72167118\n",
      " 0.72016832 0.72888488 0.72497746 0.73519687]\n",
      "\n",
      "cross validation mean accuracy of model= 0.7276631880621258\n"
     ]
    }
   ],
   "source": [
    "cv= cross_val_score(knn, X_train, y_train, cv=10)\n",
    "print(\"Cross validation accuracy of KNN model=\",cv)\n",
    "print(\"\\ncross validation mean accuracy of model=\", cv.mean())\n"
   ]
  },
  {
   "cell_type": "code",
   "execution_count": 38,
   "id": "c6485466",
   "metadata": {},
   "outputs": [
    {
     "data": {
      "image/png": "[encoded data removed]",
      "text/plain": [
       "<Figure size 864x360 with 2 Axes>"
      ]
     },
     "metadata": {
      "needs_background": "light"
     },
     "output_type": "display_data"
    }
   ],
   "source": [
    "plt.figure(figsize=(12,5))\n",
    "cm_knn_normalized=np.round(cm_knn/np.sum(cm_knn,axis=1).reshape(-1,1),2)\n",
    "cm_knn_plot=sns.heatmap(cm_knn_normalized, annot=True,fmt='.2%', cmap='Blues',\n",
    "            annot_kws={'fontsize':18},\n",
    "           xticklabels=['Nourished', 'Malnourished'],\n",
    "           yticklabels=['Nourished', 'Malnourished'],\n",
    "           square=True)\n",
    "cm_knn_plot.set_xticklabels(cm_knn_plot.get_xticklabels(), fontsize=18)\n",
    "cm_knn_plot.set_yticklabels(cm_knn_plot.get_yticklabels(), fontsize=18)\n",
    "plt.title(\"KNN\", fontsize=18,  y=1.01, loc='left')\n",
    "plt.xlabel(\"Predicted\", fontsize=18)\n",
    "plt.ylabel(\"Actual\", fontsize=18)\n",
    "plt.show()"
   ]
  },
  {
   "cell_type": "code",
   "execution_count": 25,
   "id": "ef1e6f95",
   "metadata": {},
   "outputs": [
    {
     "name": "stdout",
     "output_type": "stream",
     "text": [
      "Fitting 5 folds for each of 80 candidates, totalling 400 fits\n",
      "Best Hyper Parameters:\n",
      " {'criterion': 'gini', 'max_depth': 40, 'n_estimators': 150}\n"
     ]
    }
   ],
   "source": [
    "##RF\n",
    "params = { \n",
    "    'n_estimators': [10, 50, 100, 150, 200, 300, 400, 500],\n",
    "    'max_depth' : [10,20,30,40,50],\n",
    "    'criterion' : ['entropy','gini'] }\n",
    "rfc_gridcv = RandomForestClassifier(random_state=42)\n",
    "rfc_gridcv = GridSearchCV(estimator=rfc_gridcv, param_grid=params, verbose= 3, n_jobs = -1) \n",
    "rfc_gridcv.fit(X_train, y_train) ## parameter tuning\n",
    "print(\"Best Hyper Parameters:\\n\",rfc_gridcv.best_params_)"
   ]
  },
  {
   "cell_type": "code",
   "execution_count": 18,
   "id": "be46d9f3",
   "metadata": {},
   "outputs": [
    {
     "name": "stdout",
     "output_type": "stream",
     "text": [
      "Accuracy: 0.7997355451376368\n"
     ]
    }
   ],
   "source": [
    "from sklearn.model_selection import train_test_split\n",
    "X_train, X_test, y_train, y_test = train_test_split(X, y, test_size=0.2,stratify=y, random_state=90)\n",
    "\n",
    "rfc = RandomForestClassifier(n_estimators=150,max_depth= 40, criterion = 'gini')\n",
    "rfc.fit(X_train, y_train)\n",
    "y_hat_rfc = rfc.predict(X_test)\n",
    "print('Accuracy:',accuracy_score(y_test, y_hat_rfc))"
   ]
  },
  {
   "cell_type": "code",
   "execution_count": 19,
   "id": "cb50c720",
   "metadata": {},
   "outputs": [
    {
     "name": "stdout",
     "output_type": "stream",
     "text": [
      "Sensitivity: 0.8254388074056264\n",
      "Specificity: 0.7740384615384616\n"
     ]
    }
   ],
   "source": [
    "## Sensitivity/ Specificity\n",
    "cm_rfc= confusion_matrix(y_test, y_hat_rfc)\n",
    "sn_rfc=cm_rfc[0,0]/(cm_rfc[0,0]+cm_rfc[0,1])\n",
    "print('Sensitivity:', sn_rfc)\n",
    "sp_rfc=cm_rfc[1,1]/(cm_rfc[1,0]+cm_rfc[1,1])\n",
    "print('Specificity:', sp_rfc)\n"
   ]
  },
  {
   "cell_type": "code",
   "execution_count": 20,
   "id": "f0c79d27",
   "metadata": {},
   "outputs": [
    {
     "name": "stdout",
     "output_type": "stream",
     "text": [
      "AUC: 0.799738634472044\n",
      "MCC: 0.6002685176729681\n",
      "MSE: 0.20026445486236327\n",
      "KAPPA: 0.59947356152603\n",
      "Log Loss: 6.9169590072912035\n"
     ]
    }
   ],
   "source": [
    "print('AUC:', roc_auc_score(y_test, y_hat_rfc))\n",
    "print('MCC:', matthews_corrcoef(y_test,y_hat_rfc))\n",
    "print('MSE:', mean_squared_error(y_test,y_hat_rfc))\n",
    "print('KAPPA:', cohen_kappa_score(y_test, y_hat_rfc))\n",
    "print('Log Loss:', log_loss(y_test,y_hat_rfc))"
   ]
  },
  {
   "cell_type": "code",
   "execution_count": 23,
   "id": "b7a5356f",
   "metadata": {},
   "outputs": [
    {
     "name": "stdout",
     "output_type": "stream",
     "text": [
      "Cross validation accuracy of KNN model= [0.77734375 0.79417067 0.79236779 0.79176683 0.78064904 0.78238653\n",
      " 0.7889991  0.78629396 0.78960024 0.79380824]\n",
      "\n",
      "cross validation mean accuracy of model= 0.79\n"
     ]
    }
   ],
   "source": [
    "## 10 Fold\n",
    "cv= cross_val_score(rfc, X_train, y_train, cv=10)\n",
    "print(\"Cross validation accuracy of KNN model=\",cv)\n",
    "print(\"\\ncross validation mean accuracy of model=\",format(cv.mean(),\".2f\"))\n"
   ]
  },
  {
   "cell_type": "code",
   "execution_count": 21,
   "id": "50567ccd",
   "metadata": {},
   "outputs": [
    {
     "name": "stdout",
     "output_type": "stream",
     "text": [
      "              precision    recall  f1-score   support\n",
      "\n",
      "           0       0.79      0.83      0.80      4159\n",
      "           1       0.82      0.77      0.79      4160\n",
      "\n",
      "    accuracy                           0.80      8319\n",
      "   macro avg       0.80      0.80      0.80      8319\n",
      "weighted avg       0.80      0.80      0.80      8319\n",
      "\n",
      "Accuracy: 0.7997355451376368\n"
     ]
    }
   ],
   "source": [
    "## Classification Report\n",
    "y_hat_rfc = rfc.predict(X_test)\n",
    "print(classification_report(y_test, y_hat_rfc))\n",
    "print('Accuracy:',accuracy_score(y_test, y_hat_rfc))"
   ]
  },
  {
   "cell_type": "code",
   "execution_count": 43,
   "id": "b8b45ba9",
   "metadata": {},
   "outputs": [
    {
     "data": {
      "image/png": "[encoded data removed]",
      "text/plain": [
       "<Figure size 864x360 with 2 Axes>"
      ]
     },
     "metadata": {
      "needs_background": "light"
     },
     "output_type": "display_data"
    }
   ],
   "source": [
    "## Confusion matrix\n",
    "plt.figure(figsize=(12,5))\n",
    "cm_rfc_normalized=np.round(cm_rfc/np.sum(cm_rfc,axis=1).reshape(-1,1),2)\n",
    "cm_rfc_plot=sns.heatmap(cm_rfc_normalized, annot=True,fmt='.2%', cmap='Blues',\n",
    "            annot_kws={'fontsize':18},\n",
    "           xticklabels=['Nourished', 'Malnourished'],\n",
    "           yticklabels=['Nourished', 'Malnourished'],\n",
    "           square=True)\n",
    "cm_rfc_plot.set_xticklabels(cm_rfc_plot.get_xticklabels(), fontsize=18)\n",
    "cm_rfc_plot.set_yticklabels(cm_rfc_plot.get_yticklabels(), fontsize=18)\n",
    "\n",
    "plt.title(\"RF\", fontsize=18,  y=1.01, loc='left')\n",
    "plt.xlabel(\"Predicted\", fontsize=18)\n",
    "plt.ylabel(\"Actual\", fontsize=18)\n",
    "plt.show()"
   ]
  },
  {
   "cell_type": "code",
   "execution_count": 35,
   "id": "f5fafc97",
   "metadata": {},
   "outputs": [
    {
     "data": {
      "image/png": "[encoded data removed]",
      "text/plain": [
       "<Figure size 864x360 with 1 Axes>"
      ]
     },
     "metadata": {},
     "output_type": "display_data"
    }
   ],
   "source": [
    "## Feature Important\n",
    "from matplotlib import style\n",
    "feature_imp = pd.DataFrame(sorted(zip(rfc.feature_importances_,X.columns)), columns=['Feature Importance Value','Features'])\n",
    "feature_imp_s=feature_imp.sort_values(by=\"Feature Importance Value\", ascending=True)\n",
    "plt.figure(figsize=(12,5))\n",
    "style.use(\"ggplot\")\n",
    "plt.grid(linestyle='-',linewidth=2)\n",
    "rfc_fi_plot= sns.barplot(x=\"Feature Importance Value\", y=\"Features\" ,saturation=1,\n",
    "            data=feature_imp_s[0:40], palette='flare')\n",
    "plt.title(\"Random Forest\", fontsize=16,  y=1.01, loc='left')\n",
    "plt.xlabel(\"Coefficients\", fontsize=16)\n",
    "plt.ylabel(\"Features\", fontsize=16)\n",
    "plt.show() "
   ]
  },
  {
   "cell_type": "code",
   "execution_count": 31,
   "id": "7f749451",
   "metadata": {},
   "outputs": [
    {
     "name": "stdout",
     "output_type": "stream",
     "text": [
      "Best Hyper Parameters:\n",
      " {'criterion': 'gini', 'max_depth': 2, 'min_samples_leaf': 0.14}\n"
     ]
    }
   ],
   "source": [
    "##Decision Tree Model\n",
    "params_dt = {\n",
    "    'criterion':['gini','entropy'],\n",
    "  'max_depth': [2, 3, 4],\n",
    "    'min_samples_leaf': [0.12, 0.14, 0.16, 0.18], }\n",
    "dt = DecisionTreeClassifier()\n",
    "dt_grid_cv = GridSearchCV(dt, param_grid=params_dt, cv=10) \n",
    "dt_grid_cv.fit(X_train, y_train) ## Parameter Tuning\n",
    "print(\"Best Hyper Parameters:\\n\",dt_grid_cv.best_params_)"
   ]
  },
  {
   "cell_type": "code",
   "execution_count": 36,
   "id": "f19984d4",
   "metadata": {},
   "outputs": [
    {
     "name": "stdout",
     "output_type": "stream",
     "text": [
      "Accuracy: 0.6005529510758505\n"
     ]
    }
   ],
   "source": [
    "##Model Building\n",
    "from sklearn.model_selection import train_test_split\n",
    "X_train, X_test, y_train, y_test = train_test_split(X, y, test_size=0.20,stratify=y, random_state=90)\n",
    "dt = DecisionTreeClassifier(criterion= 'gini',max_depth=2,min_samples_leaf=0.14 )\n",
    "dt.fit(X_train, y_train)\n",
    "y_hat_dt = dt.predict(X_test)\n",
    "print('Accuracy:',accuracy_score(y_test, y_hat_dt))"
   ]
  },
  {
   "cell_type": "code",
   "execution_count": 37,
   "id": "a6e263b4",
   "metadata": {},
   "outputs": [
    {
     "name": "stdout",
     "output_type": "stream",
     "text": [
      "Sensitivity: 0.6427025727338302\n",
      "Specificity: 0.5584134615384615\n"
     ]
    }
   ],
   "source": [
    "## Sensitivity/ Specificity\n",
    "cm_dt= confusion_matrix(y_test, y_hat_dt)\n",
    "sn_dt=cm_dt[0,0]/(cm_dt[0,0]+cm_dt[0,1])\n",
    "print('Sensitivity:', sn_dt)\n",
    "sp_dt=cm_dt[1,1]/(cm_dt[1,0]+cm_dt[1,1])\n",
    "print('Specificity:', sp_dt)"
   ]
  },
  {
   "cell_type": "code",
   "execution_count": 38,
   "id": "c3597d2f",
   "metadata": {},
   "outputs": [
    {
     "name": "stdout",
     "output_type": "stream",
     "text": [
      "AUC: 0.6005580171361459\n",
      "MCC: 0.20183387810593273\n",
      "MSE: 0.39944704892414956\n",
      "KAPPA: 0.20111399423943965\n",
      "Log Loss: 13.796555134279295\n"
     ]
    }
   ],
   "source": [
    "## Model Performance \n",
    "print('AUC:', roc_auc_score(y_test, y_hat_dt))\n",
    "print('MCC:', matthews_corrcoef(y_test,y_hat_dt))\n",
    "print('MSE:', mean_squared_error(y_test,y_hat_dt))\n",
    "print('KAPPA:', cohen_kappa_score(y_test, y_hat_dt))\n",
    "print('Log Loss:', log_loss(y_test,y_hat_dt))"
   ]
  },
  {
   "cell_type": "code",
   "execution_count": 48,
   "id": "8f95a72f",
   "metadata": {},
   "outputs": [
    {
     "name": "stdout",
     "output_type": "stream",
     "text": [
      "              precision    recall  f1-score   support\n",
      "\n",
      "           0       0.59      0.64      0.62      4159\n",
      "           1       0.61      0.56      0.58      4160\n",
      "\n",
      "    accuracy                           0.60      8319\n",
      "   macro avg       0.60      0.60      0.60      8319\n",
      "weighted avg       0.60      0.60      0.60      8319\n",
      "\n",
      "Accuracy: 0.6005529510758505\n"
     ]
    }
   ],
   "source": [
    "## Classification Report\n",
    "y_hat_dt = dt.predict(X_test)\n",
    "print(classification_report(y_test, y_hat_dt))\n",
    "print('Accuracy:',accuracy_score(y_test, y_hat_dt))"
   ]
  },
  {
   "cell_type": "code",
   "execution_count": 39,
   "id": "64750001",
   "metadata": {},
   "outputs": [
    {
     "data": {
      "image/png": "[encoded data removed]",
      "text/plain": [
       "<Figure size 864x360 with 2 Axes>"
      ]
     },
     "metadata": {},
     "output_type": "display_data"
    }
   ],
   "source": [
    "## Confusion matrix\n",
    "cm_dt= confusion_matrix(y_test, y_hat_dt)\n",
    "plt.figure(figsize=(12,5))\n",
    "cm_dt_normalized=np.round(cm_dt/np.sum(cm_dt,axis=1).reshape(-1,1),2)\n",
    "cm_dt_plot=sns.heatmap(cm_dt_normalized, annot=True,fmt='.2%', cmap='Blues',\n",
    "            annot_kws={'fontsize':18},\n",
    "            xticklabels=['Nourished', 'Malnourished'],\n",
    "            yticklabels=['Nourished', 'Malnourished'],\n",
    "           square=True)\n",
    "cm_dt_plot.set_xticklabels(cm_dt_plot.get_xticklabels(), fontsize=18)\n",
    "cm_dt_plot.set_yticklabels(cm_dt_plot.get_yticklabels(), fontsize=18)\n",
    "plt.title(\"DT\", fontsize=18,  y=1.01, loc='left')\n",
    "plt.xlabel(\"Predicted\", fontsize=18)\n",
    "plt.ylabel(\"Actual\", fontsize=18)\n",
    "plt.show()"
   ]
  },
  {
   "cell_type": "code",
   "execution_count": 41,
   "id": "2855b94d",
   "metadata": {},
   "outputs": [
    {
     "data": {
      "image/png": "[encoded data removed]",
      "text/plain": [
       "<Figure size 864x360 with 1 Axes>"
      ]
     },
     "metadata": {},
     "output_type": "display_data"
    }
   ],
   "source": [
    "## Feature Important\n",
    "from matplotlib import style\n",
    "feature_imp = pd.DataFrame(sorted(zip(dt.feature_importances_,X.columns)), columns=['Feature Importance Value','Features'])\n",
    "feature_imp_s=feature_imp.sort_values(by=\"Feature Importance Value\", ascending=True)\n",
    "plt.figure(figsize=(12,5))\n",
    "style.use(\"ggplot\")\n",
    "plt.grid(linestyle='-',linewidth=2)\n",
    "rfc_fi_plot= sns.barplot(x=\"Feature Importance Value\", y=\"Features\" ,saturation=1,\n",
    "            data=feature_imp_s[0:40], palette='Blues')\n",
    "plt.title(\"Decision Tree\", fontsize=16,  y=1.01, loc='left')\n",
    "plt.xlabel(\"Coefficients\", fontsize=16)\n",
    "plt.ylabel(\"Features\", fontsize=16)\n",
    "plt.show() "
   ]
  },
  {
   "cell_type": "code",
   "execution_count": 41,
   "id": "16bd6da1",
   "metadata": {},
   "outputs": [
    {
     "name": "stdout",
     "output_type": "stream",
     "text": [
      "Fitting 5 folds for each of 10 candidates, totalling 50 fits\n",
      "[02:37:25] WARNING: C:/Users/Administrator/workspace/xgboost-win64_release_1.5.1/src/learner.cc:1115: Starting in XGBoost 1.3.0, the default evaluation metric used with the objective 'binary:logistic' was changed from 'error' to 'logloss'. Explicitly set eval_metric if you'd like to restore the old behavior.\n",
      "Best Hyper Parameters:\n",
      " {'min_child_weight': 1, 'max_depth': 15, 'learning_rate': 0.3, 'gamma': 0.0, 'colsample_bytree': 0.7}\n"
     ]
    },
    {
     "data": {
      "text/plain": [
       "XGBClassifier(base_score=0.5, booster='gbtree', colsample_bylevel=1,\n",
       "              colsample_bynode=1, colsample_bytree=0.7,\n",
       "              enable_categorical=False, gamma=0.0, gpu_id=-1,\n",
       "              importance_type=None, interaction_constraints='',\n",
       "              learning_rate=0.3, max_delta_step=0, max_depth=15,\n",
       "              min_child_weight=1, missing=nan, monotone_constraints='()',\n",
       "              n_estimators=100, n_jobs=8, num_parallel_tree=1, predictor='auto',\n",
       "              random_state=0, reg_alpha=0, reg_lambda=1, scale_pos_weight=1,\n",
       "              subsample=1, tree_method='exact', validate_parameters=1,\n",
       "              verbosity=None)"
      ]
     },
     "execution_count": 41,
     "metadata": {},
     "output_type": "execute_result"
    }
   ],
   "source": [
    "##XGBoost Model\n",
    "params_xgb={\n",
    " \"learning_rate\"    : [0.05, 0.10, 0.15, 0.20, 0.25, 0.30 ] ,\n",
    " \"max_depth\"        : [ 3, 4, 5, 6, 8, 10, 12, 15],\n",
    " \"min_child_weight\" : [ 1, 3, 5, 7 ],\n",
    " \"gamma\"            : [ 0.0, 0.1, 0.2 , 0.3, 0.4 ],\n",
    " \"colsample_bytree\" : [ 0.3, 0.4, 0.5 , 0.7 ] }\n",
    "xgb_classifier = XGBClassifier()\n",
    "random_search = RandomizedSearchCV(xgb_classifier, param_distributions=params_xgb, scoring= 'roc_auc', n_jobs= -1, verbose= 3)\n",
    "random_search.fit(X_train, y_train) ## Parameter Tuning\n",
    "print(\"Best Hyper Parameters:\\n\",random_search.best_params_)\n",
    "random_search.best_estimator_\n",
    "\n"
   ]
  },
  {
   "cell_type": "code",
   "execution_count": 42,
   "id": "2b813bb8",
   "metadata": {},
   "outputs": [],
   "source": [
    "xgb_classifier_pt= XGBClassifier(base_score=0.5, booster='gbtree', colsample_bylevel=1,\n",
    "              colsample_bynode=1, colsample_bytree=0.7,\n",
    "              enable_categorical=False, gamma=0.0, gpu_id=-1,\n",
    "              importance_type=None, interaction_constraints='',\n",
    "              learning_rate=0.3, max_delta_step=0, max_depth=15,\n",
    "              min_child_weight=1, monotone_constraints='()',\n",
    "              n_estimators=100, n_jobs=8, num_parallel_tree=1, predictor='auto',\n",
    "              random_state=0, reg_alpha=0, reg_lambda=1, scale_pos_weight=1,\n",
    "              subsample=1, tree_method='exact', validate_parameters=1,\n",
    "              verbosity=None)"
   ]
  },
  {
   "cell_type": "code",
   "execution_count": 43,
   "id": "5b1ff327",
   "metadata": {},
   "outputs": [
    {
     "name": "stdout",
     "output_type": "stream",
     "text": [
      "[23:51:31] WARNING: C:/Users/Administrator/workspace/xgboost-win64_release_1.5.1/src/learner.cc:1115: Starting in XGBoost 1.3.0, the default evaluation metric used with the objective 'binary:logistic' was changed from 'error' to 'logloss'. Explicitly set eval_metric if you'd like to restore the old behavior.\n",
      "              precision    recall  f1-score   support\n",
      "\n",
      "           0       0.77      0.82      0.79      4159\n",
      "           1       0.81      0.75      0.78      4160\n",
      "\n",
      "    accuracy                           0.79      8319\n",
      "   macro avg       0.79      0.79      0.79      8319\n",
      "weighted avg       0.79      0.79      0.79      8319\n",
      "\n",
      "Accuracy: 0.7861521817526145\n"
     ]
    }
   ],
   "source": [
    "## Model Building and Classification Report\n",
    "from sklearn.model_selection import train_test_split\n",
    "X_train, X_test, y_train, y_test = train_test_split(X, y, test_size=0.2,stratify=y, random_state=90)\n",
    "xgb_classifier_pt.fit(X_train, y_train)\n",
    "y_pred_xgb_pt = xgb_classifier_pt.predict(X_test)\n",
    "print(classification_report(y_test,y_pred_xgb_pt))\n",
    "print('Accuracy:',accuracy_score(y_test, y_pred_xgb_pt))"
   ]
  },
  {
   "cell_type": "code",
   "execution_count": 44,
   "id": "f458c932",
   "metadata": {},
   "outputs": [
    {
     "name": "stdout",
     "output_type": "stream",
     "text": [
      "Sensitivity: 0.8239961529213753\n",
      "Specificity: 0.7483173076923076\n"
     ]
    }
   ],
   "source": [
    "## Sensitivity/ Specificity\n",
    "cm_xgb= confusion_matrix(y_test, y_pred_xgb_pt)\n",
    "sn_xgb=cm_xgb[0,0]/(cm_xgb[0,0]+cm_xgb[0,1])\n",
    "print('Sensitivity:', sn_xgb)\n",
    "sp_xgb=cm_xgb[1,1]/(cm_xgb[1,0]+cm_xgb[1,1])\n",
    "print('Specificity:', sp_xgb)\n"
   ]
  },
  {
   "cell_type": "code",
   "execution_count": 45,
   "id": "bed1a942",
   "metadata": {},
   "outputs": [
    {
     "name": "stdout",
     "output_type": "stream",
     "text": [
      "AUC: 0.7861567303068415\n",
      "MCC: 0.5739564278953432\n",
      "MSE: 0.2138478182473855\n",
      "KAPPA: 0.5723082507265587\n",
      "Log Loss: 7.386112334639381\n"
     ]
    }
   ],
   "source": [
    "## Model Performance\n",
    "print('AUC:', roc_auc_score(y_test, y_pred_xgb_pt))\n",
    "print('MCC:', matthews_corrcoef(y_test, y_pred_xgb_pt))\n",
    "print('MSE:', mean_squared_error(y_test, y_pred_xgb_pt))\n",
    "print('KAPPA:', cohen_kappa_score(y_test, y_pred_xgb_pt))\n",
    "print('Log Loss:', log_loss(y_test, y_pred_xgb_pt))"
   ]
  },
  {
   "cell_type": "code",
   "execution_count": 54,
   "id": "f1a6bd4c",
   "metadata": {},
   "outputs": [
    {
     "data": {
      "image/png": "[encoded data removed]",
      "text/plain": [
       "<Figure size 864x360 with 2 Axes>"
      ]
     },
     "metadata": {},
     "output_type": "display_data"
    }
   ],
   "source": [
    "## Confusion matrix\n",
    "plt.figure(figsize=(12,5))\n",
    "cm_xgb_normalized=np.round(cm_xgb/np.sum(cm_xgb,axis=1).reshape(-1,1),2)\n",
    "cm_xgb_plot=sns.heatmap(cm_xgb_normalized, annot=True,fmt='.2%', cmap='Blues',\n",
    "            annot_kws={'fontsize':18},\n",
    "            xticklabels=['Nourished', 'Malnourished'],\n",
    "            yticklabels=['Nourished', 'Malnourished'],\n",
    "           square=True)\n",
    "cm_xgb_plot.set_xticklabels(cm_xgb_plot.get_xticklabels(), fontsize=18)\n",
    "cm_xgb_plot.set_yticklabels(cm_xgb_plot.get_yticklabels(), fontsize=18)\n",
    "plt.title(\"XGBoost\", fontsize=18,  y=1.01, loc='left')\n",
    "plt.xlabel(\"Predicted\", fontsize=18)\n",
    "plt.ylabel(\"Actual\", fontsize=18)\n",
    "plt.show()"
   ]
  },
  {
   "cell_type": "code",
   "execution_count": 46,
   "id": "c552cfb7",
   "metadata": {},
   "outputs": [
    {
     "data": {
      "image/png": "[encoded data removed]",
      "text/plain": [
       "<Figure size 864x360 with 1 Axes>"
      ]
     },
     "metadata": {},
     "output_type": "display_data"
    }
   ],
   "source": [
    "## Feature Important\n",
    "from matplotlib import style\n",
    "feature_imp = pd.DataFrame(sorted(zip(xgb_classifier_pt.feature_importances_,X.columns)), columns=['Feature Importance Value','Features'])\n",
    "feature_imp_s=feature_imp.sort_values(by=\"Feature Importance Value\", ascending=True)\n",
    "plt.figure(figsize=(12,5))\n",
    "style.use(\"ggplot\")\n",
    "plt.grid(linestyle='-',linewidth=2)\n",
    "xgb_fi_plot= sns.barplot(x=\"Feature Importance Value\", y=\"Features\" ,saturation=1, data=feature_imp_s[0:40], palette='crest')\n",
    "plt.title(\"XGBoost\", fontsize=16, y=1.01, loc='left')\n",
    "plt.xlabel(\"Coefficients\", fontsize=16)\n",
    "plt.ylabel(\"Features\", fontsize=16)\n",
    "plt.show()"
   ]
  },
  {
   "cell_type": "code",
   "execution_count": 56,
   "id": "24fbcaba",
   "metadata": {},
   "outputs": [
    {
     "name": "stdout",
     "output_type": "stream",
     "text": [
      "Voting 2 accuracy score: 0.9371318668109148\n"
     ]
    }
   ],
   "source": [
    "##Hybrid Model (Voting)\n",
    "\n",
    "from sklearn.model_selection import train_test_split\n",
    "X_train, X_test, y_train, y_test = train_test_split(X, y, \n",
    "                                test_size=0.2,stratify=y, random_state=32)\n",
    "clfs2 =[rfc,dt,knn,xgb_classifier_pt]\n",
    "model_clfs2= EnsembleVoteClassifier(\n",
    "      clfs=clfs2,\n",
    "      voting=\"hard\",\n",
    "      weights=[1,1,1,1],\n",
    "      fit_base_estimators= False).fit(X_train, y_train)\n",
    "pred_clfs2=model_clfs2.predict(X_test)\n",
    "print(\"Voting 2 accuracy score:\", accuracy_score(y_test, pred_clfs2))\n"
   ]
  },
  {
   "cell_type": "code",
   "execution_count": 57,
   "id": "97a0e9cb",
   "metadata": {},
   "outputs": [
    {
     "name": "stdout",
     "output_type": "stream",
     "text": [
      "Sensitivity: 0.982447703774946\n",
      "Specificity: 0.8918269230769231\n",
      "              precision    recall  f1-score   support\n",
      "\n",
      "           0       0.90      0.98      0.94      4159\n",
      "           1       0.98      0.89      0.93      4160\n",
      "\n",
      "    accuracy                           0.94      8319\n",
      "   macro avg       0.94      0.94      0.94      8319\n",
      "weighted avg       0.94      0.94      0.94      8319\n",
      "\n"
     ]
    }
   ],
   "source": [
    "cm_voting2 = confusion_matrix(y_test, pred_clfs2)\n",
    "sn_voting2=cm_voting2[0,0]/(cm_voting2[0,0]+cm_voting2[0,1])\n",
    "print('Sensitivity:', sn_voting2)\n",
    "sp_voting2=cm_voting2[1,1]/(cm_voting2[1,0]+cm_voting2[1,1])\n",
    "print('Specificity:', sp_voting2)\n",
    "print(classification_report(y_test,pred_clfs2))"
   ]
  },
  {
   "cell_type": "code",
   "execution_count": 58,
   "id": "ea9ba42f",
   "metadata": {},
   "outputs": [
    {
     "name": "stdout",
     "output_type": "stream",
     "text": [
      "AUC: 0.9371373134259345\n",
      "MCC: 0.8778782847202048\n",
      "MSE: 0.06286813318908523\n",
      "KAPPA: 0.874265101692595\n",
      "Log Loss: 2.1713954111252187\n"
     ]
    }
   ],
   "source": [
    "## Model Performance\n",
    "print('AUC:', roc_auc_score(y_test, pred_clfs2))\n",
    "print('MCC:', matthews_corrcoef(y_test, pred_clfs2))\n",
    "print('MSE:', mean_squared_error(y_test, pred_clfs2))\n",
    "print('KAPPA:', cohen_kappa_score(y_test, pred_clfs2))\n",
    "print('Log Loss:', log_loss(y_test, pred_clfs2))"
   ]
  },
  {
   "cell_type": "code",
   "execution_count": 59,
   "id": "e7b9f349",
   "metadata": {},
   "outputs": [
    {
     "data": {
      "image/png": "[encoded data removed]",
      "text/plain": [
       "<Figure size 864x360 with 2 Axes>"
      ]
     },
     "metadata": {},
     "output_type": "display_data"
    }
   ],
   "source": [
    "## Confusion matrix\n",
    "plt.figure(figsize=(12,5))\n",
    "MV_normalized=np.round(cm_voting2/np.sum(cm_voting2,axis=1).reshape(-1,1),2)\n",
    "cm_MV_plot=sns.heatmap(MV_normalized, annot=True,fmt='.2%', cmap='Blues',\n",
    "            annot_kws={'fontsize':18},\n",
    "            xticklabels=['Nourished', 'Malnourished'],\n",
    "            yticklabels=['Nourished', 'Malnourished'],\n",
    "           square=True)\n",
    "cm_MV_plot.set_xticklabels(cm_MV_plot.get_xticklabels(), fontsize=18)\n",
    "cm_MV_plot.set_yticklabels(cm_MV_plot.get_yticklabels(), fontsize=18)\n",
    "plt.title(\"MVBHE\", fontsize=18,  y=1.01, loc='left')\n",
    "plt.xlabel(\"Predicted\", fontsize=18)\n",
    "plt.ylabel(\"Actual\", fontsize=18)\n",
    "plt.show()"
   ]
  },
  {
   "cell_type": "code",
   "execution_count": 61,
   "id": "47562165",
   "metadata": {},
   "outputs": [],
   "source": [
    "## ROC Curve\n",
    "##KNN\n",
    "y_knn = knn.predict_proba(X_test)[:,1]\n",
    "fpr1, tpr1, thresholds1 = roc_curve(y_test, y_knn)\n",
    "roc_auc1 = metrics.auc(fpr1, tpr1)\n",
    "\n",
    "## RF\n",
    "y_rfc = rfc.predict_proba(X_test)[:,1]\n",
    "fpr2, tpr2, thresholds2 = roc_curve(y_test, y_rfc)\n",
    "roc_auc2 = metrics.auc(fpr2, tpr2)\n",
    "\n",
    "## DT\n",
    "y_dt = dt.predict_proba(X_test)[:,1]\n",
    "fpr3, tpr3, thresholds3 = roc_curve(y_test, y_dt)\n",
    "roc_auc3 = metrics.auc(fpr3, tpr3)\n",
    "\n",
    "\n",
    "## XGBoost\n",
    "y_xgb_pt = xgb_classifier_pt.predict_proba(X_test)[:,1]\n",
    "fpr4, tpr4, thresholds4 = roc_curve(y_test, y_xgb_pt)\n",
    "roc_auc4 = metrics.auc(fpr4, tpr4)\n",
    "\n",
    "#MVBHE\n",
    "y_mvbhe = model_clfs2.predict_proba(X_test)[:,1]\n",
    "fpr5, tpr5, thresholds5 = roc_curve(y_test, y_mvbhe)\n",
    "roc_auc5 = metrics.auc(fpr5, tpr5)"
   ]
  },
  {
   "cell_type": "code",
   "execution_count": 62,
   "id": "b635742c",
   "metadata": {},
   "outputs": [
    {
     "data": {
      "image/png": "[encoded data removed]",
      "text/plain": [
       "<Figure size 1440x720 with 1 Axes>"
      ]
     },
     "metadata": {},
     "output_type": "display_data"
    }
   ],
   "source": [
    "## Plotting Curve\n",
    "plt.figure(figsize=(20,10))\n",
    "plt.plot(fpr1, tpr1, color='b', linestyle='-',label='KNN (AUC = %0.2f)' % roc_auc1)\n",
    "plt.plot(fpr2, tpr2, color='g', linestyle='-',label='RF (AUC = %0.2f)' % roc_auc2) \n",
    "plt.plot(fpr3, tpr3, color='c', linestyle='-',label='DT (AUC = %0.2f)' % roc_auc3)\n",
    "plt.plot(fpr4, tpr4, color='m', linestyle='solid',label='XGBoost (AUC = %0.2f)' % roc_auc4)\n",
    "plt.plot(fpr5, tpr5, color='k', linestyle='-',label='MVBHE (AUC = %0.2f)' % roc_auc5)\n",
    "\n",
    "\n",
    "plt.plot([0, 1], [0, 1], color='darkblue', linestyle='--')\n",
    "plt.xlabel('False Positive Rate',fontsize= 18)\n",
    "plt.ylabel('True Positive Rate',fontsize= 18)\n",
    "plt.title('Receiver Operating Characteristic (ROC) Curve', fontsize= 18, y=1.01, \n",
    "          loc='left')\n",
    "\n",
    "plt.legend(fontsize= 18)\n",
    "plt.show()"
   ]
  },
  {
   "cell_type": "code",
   "execution_count": 47,
   "id": "067f8b49",
   "metadata": {},
   "outputs": [
    {
     "ename": "NameError",
     "evalue": "name 'clfs2' is not defined",
     "output_type": "error",
     "traceback": [
      "\u001b[1;31m---------------------------------------------------------------------------\u001b[0m",
      "\u001b[1;31mNameError\u001b[0m                                 Traceback (most recent call last)",
      "\u001b[1;32m~\\AppData\\Local\\Temp/ipykernel_18776/1135492362.py\u001b[0m in \u001b[0;36m<module>\u001b[1;34m\u001b[0m\n\u001b[0;32m      1\u001b[0m \u001b[1;31m## Feature Important\u001b[0m\u001b[1;33m\u001b[0m\u001b[1;33m\u001b[0m\u001b[0m\n\u001b[0;32m      2\u001b[0m \u001b[1;32mfrom\u001b[0m \u001b[0mmatplotlib\u001b[0m \u001b[1;32mimport\u001b[0m \u001b[0mstyle\u001b[0m\u001b[1;33m\u001b[0m\u001b[1;33m\u001b[0m\u001b[0m\n\u001b[1;32m----> 3\u001b[1;33m \u001b[0mfeature_imp\u001b[0m \u001b[1;33m=\u001b[0m \u001b[0mpd\u001b[0m\u001b[1;33m.\u001b[0m\u001b[0mDataFrame\u001b[0m\u001b[1;33m(\u001b[0m\u001b[0msorted\u001b[0m\u001b[1;33m(\u001b[0m\u001b[0mzip\u001b[0m\u001b[1;33m(\u001b[0m\u001b[0mclfs2\u001b[0m\u001b[1;33m.\u001b[0m\u001b[0mfeature_importances_\u001b[0m\u001b[1;33m,\u001b[0m\u001b[0mX\u001b[0m\u001b[1;33m.\u001b[0m\u001b[0mcolumns\u001b[0m\u001b[1;33m)\u001b[0m\u001b[1;33m)\u001b[0m\u001b[1;33m,\u001b[0m \u001b[0mcolumns\u001b[0m\u001b[1;33m=\u001b[0m\u001b[1;33m[\u001b[0m\u001b[1;34m'Feature Importance Value'\u001b[0m\u001b[1;33m,\u001b[0m\u001b[1;34m'Features'\u001b[0m\u001b[1;33m]\u001b[0m\u001b[1;33m)\u001b[0m\u001b[1;33m\u001b[0m\u001b[1;33m\u001b[0m\u001b[0m\n\u001b[0m\u001b[0;32m      4\u001b[0m \u001b[0mfeature_imp_s\u001b[0m\u001b[1;33m=\u001b[0m\u001b[0mfeature_imp\u001b[0m\u001b[1;33m.\u001b[0m\u001b[0msort_values\u001b[0m\u001b[1;33m(\u001b[0m\u001b[0mby\u001b[0m\u001b[1;33m=\u001b[0m\u001b[1;34m\"Feature Importance Value\"\u001b[0m\u001b[1;33m,\u001b[0m \u001b[0mascending\u001b[0m\u001b[1;33m=\u001b[0m\u001b[1;32mTrue\u001b[0m\u001b[1;33m)\u001b[0m\u001b[1;33m\u001b[0m\u001b[1;33m\u001b[0m\u001b[0m\n\u001b[0;32m      5\u001b[0m \u001b[0mplt\u001b[0m\u001b[1;33m.\u001b[0m\u001b[0mfigure\u001b[0m\u001b[1;33m(\u001b[0m\u001b[0mfigsize\u001b[0m\u001b[1;33m=\u001b[0m\u001b[1;33m(\u001b[0m\u001b[1;36m12\u001b[0m\u001b[1;33m,\u001b[0m\u001b[1;36m5\u001b[0m\u001b[1;33m)\u001b[0m\u001b[1;33m)\u001b[0m\u001b[1;33m\u001b[0m\u001b[1;33m\u001b[0m\u001b[0m\n",
      "\u001b[1;31mNameError\u001b[0m: name 'clfs2' is not defined"
     ]
    }
   ],
   "source": [
    "## Feature Important\n",
    "from matplotlib import style\n",
    "feature_imp = pd.DataFrame(sorted(zip(model_clfs2.feature_importances_,X.columns)), columns=['Feature Importance Value','Features'])\n",
    "feature_imp_s=feature_imp.sort_values(by=\"Feature Importance Value\", ascending=True)\n",
    "plt.figure(figsize=(12,5))\n",
    "style.use(\"ggplot\")\n",
    "plt.grid(linestyle='-',linewidth=2)\n",
    "xgb_fi_plot= sns.barplot(x=\"Feature Importance Value\", y=\"Features\" ,saturation=1, data=feature_imp_s[0:40], palette='cool')\n",
    "plt.title(\"MVBHE\", fontsize=16, y=1.01, loc='left')\n",
    "plt.xlabel(\"Coefficients\", fontsize=16)\n",
    "plt.ylabel(\"Features\", fontsize=16)\n",
    "plt.show()"
   ]
  },
  {
   "cell_type": "code",
   "execution_count": 4,
   "id": "cfff5832",
   "metadata": {},
   "outputs": [
    {
     "data": {
      "text/plain": [
       "'3.9.7'"
      ]
     },
     "execution_count": 4,
     "metadata": {},
     "output_type": "execute_result"
    }
   ],
   "source": [
    "from platform import python_version\n",
    "python_version()"
   ]
  },
  {
   "cell_type": "code",
   "execution_count": 5,
   "id": "56d40bc9",
   "metadata": {},
   "outputs": [
    {
     "name": "stdout",
     "output_type": "stream",
     "text": [
      "Name: scikit-learn\n",
      "Version: 1.0.2\n",
      "Summary: A set of python modules for machine learning and data mining\n",
      "Home-page: http://scikit-learn.org\n",
      "Author: \n",
      "Author-email: \n",
      "License: new BSD\n",
      "Location: c:\\users\\nafiu\\anaconda3\\lib\\site-packages\n",
      "Requires: numpy, joblib, scipy, threadpoolctl\n",
      "Required-by: scikit-learn-intelex, mlxtend, lightgbm, imbalanced-learn\n",
      "Note: you may need to restart the kernel to use updated packages.\n"
     ]
    }
   ],
   "source": [
    "pip show  scikit-learn"
   ]
  },
  {
   "cell_type": "code",
   "execution_count": 6,
   "id": "bed675a7",
   "metadata": {},
   "outputs": [
    {
     "name": "stdout",
     "output_type": "stream",
     "text": [
      "Name: keras\n",
      "Version: 2.9.0\n",
      "Summary: Deep learning for humans.\n",
      "Home-page: https://keras.io/\n",
      "Author: Keras team\n",
      "Author-email: keras-users@googlegroups.com\n",
      "License: Apache 2.0\n",
      "Location: c:\\users\\nafiu\\anaconda3\\lib\\site-packages\n",
      "Requires: \n",
      "Required-by: tensorflow\n",
      "Note: you may need to restart the kernel to use updated packages.\n"
     ]
    }
   ],
   "source": [
    "pip show Keras"
   ]
  },
  {
   "cell_type": "code",
   "execution_count": 7,
   "id": "d3e81749",
   "metadata": {},
   "outputs": [
    {
     "name": "stdout",
     "output_type": "stream",
     "text": [
      "Name: tensorflow\n",
      "Version: 2.9.1\n",
      "Summary: TensorFlow is an open source machine learning framework for everyone.\n",
      "Home-page: https://www.tensorflow.org/\n",
      "Author: Google Inc.\n",
      "Author-email: packages@tensorflow.org\n",
      "License: Apache 2.0\n",
      "Location: c:\\users\\nafiu\\anaconda3\\lib\\site-packages\n",
      "Requires: six, typing-extensions, tensorflow-io-gcs-filesystem, libclang, setuptools, gast, keras, keras-preprocessing, tensorflow-estimator, absl-py, wrapt, h5py, protobuf, tensorboard, flatbuffers, opt-einsum, termcolor, astunparse, google-pasta, grpcio, packaging, numpy\n",
      "Required-by: \n",
      "Note: you may need to restart the kernel to use updated packages.\n"
     ]
    }
   ],
   "source": [
    "pip show tensorflow "
   ]
  },
  {
   "cell_type": "code",
   "execution_count": 8,
   "id": "44ffd535",
   "metadata": {},
   "outputs": [
    {
     "name": "stdout",
     "output_type": "stream",
     "text": [
      "Note: you may need to restart the kernel to use updated packages.\n"
     ]
    },
    {
     "name": "stderr",
     "output_type": "stream",
     "text": [
      "WARNING: Package(s) not found: mljar-supervised\n"
     ]
    }
   ],
   "source": [
    "pip show mljar-supervised"
   ]
  },
  {
   "cell_type": "code",
   "execution_count": null,
   "id": "33c9b293",
   "metadata": {},
   "outputs": [],
   "source": []
  }
 ],
 "metadata": {
  "kernelspec": {
   "display_name": "Python 3 (ipykernel)",
   "language": "python",
   "name": "python3"
  },
  "language_info": {
   "codemirror_mode": {
    "name": "ipython",
    "version": 3
   },
   "file_extension": ".py",
   "mimetype": "text/x-python",
   "name": "python",
   "nbconvert_exporter": "python",
   "pygments_lexer": "ipython3",
   "version": "3.9.7"
  }
 },
 "nbformat": 4,
 "nbformat_minor": 5
}
